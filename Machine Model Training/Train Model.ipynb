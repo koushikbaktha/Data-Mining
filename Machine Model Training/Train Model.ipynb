{
 "cells": [
  {
   "cell_type": "code",
   "execution_count": 2,
   "metadata": {},
   "outputs": [],
   "source": [
    "import pandas as pd\n",
    "import numpy as np\n",
    "from datetime import timedelta\n",
    "from scipy.fftpack import fft, ifft,rfft\n",
    "from sklearn.utils import shuffle\n",
    "from sklearn.tree import DecisionTreeClassifier\n",
    "from sklearn.model_selection import KFold, RepeatedKFold\n",
    "from joblib import dump, load"
   ]
  },
  {
   "cell_type": "code",
   "execution_count": 3,
   "metadata": {},
   "outputs": [],
   "source": [
    "insulin_data_df=pd.read_csv('C:\\\\Users\\\\koushikbaktha\\\\Desktop\\\\ASU\\\\CSE572\\\\Project 2\\\\Project 2 Files\\\\InsulinData.csv',low_memory=False,usecols=['Date','Time','BWZ Carb Input (grams)'])\n",
    "# insulin_data_df=pd.read_csv('~\\InsulinData.csv',low_memory=False,usecols=['Date','Time','BWZ Carb Input (grams)'])"
   ]
  },
  {
   "cell_type": "code",
   "execution_count": 4,
   "metadata": {},
   "outputs": [],
   "source": [
    "cgm_data_df=pd.read_csv('C:\\\\Users\\\\koushikbaktha\\\\Desktop\\\\ASU\\\\CSE572\\\\Project 2\\\\Project 2 Files\\\\CGMData.csv',low_memory=False,usecols=['Date','Time','Sensor Glucose (mg/dL)'])\n",
    "# cgm_data_df=pd.read_csv('~\\CGMData.csv',low_memory=False,usecols=['Date','Time','Sensor Glucose (mg/dL)'])"
   ]
  },
  {
   "cell_type": "code",
   "execution_count": 5,
   "metadata": {},
   "outputs": [],
   "source": [
    "insulin_data_df['date_time_stamp']=pd.to_datetime(insulin_data_df['Date'] + ' ' + insulin_data_df['Time'])\n",
    "cgm_data_df['date_time_stamp']=pd.to_datetime(cgm_data_df['Date'] + ' ' + cgm_data_df['Time'])"
   ]
  },
  {
   "cell_type": "code",
   "execution_count": 6,
   "metadata": {},
   "outputs": [],
   "source": [
    "insulin_data_df_1=pd.read_csv('C:\\\\Users\\\\koushikbaktha\\\\Desktop\\\\ASU\\\\CSE572\\\\Project 2\\\\Insulin_patient2.csv',low_memory=False,usecols=['Date','Time','BWZ Carb Input (grams)'])\n",
    "# insulin_data_df_1=pd.read_csv('~\\Insulin_patient2.csv',low_memory=False,usecols=['Date','Time','BWZ Carb Input (grams)'])"
   ]
  },
  {
   "cell_type": "code",
   "execution_count": 7,
   "metadata": {},
   "outputs": [],
   "source": [
    "cgm_data_df_1=pd.read_csv('C:\\\\Users\\\\koushikbaktha\\\\Desktop\\\\ASU\\\\CSE572\\\\Project 2\\\\CGM_patient2.csv',low_memory=False,usecols=['Date','Time','Sensor Glucose (mg/dL)'])\n",
    "# cgm_data_df_1=pd.read_csv('~\\CGM_patient2.csv',low_memory=False,usecols=['Date','Time','Sensor Glucose (mg/dL)'])"
   ]
  },
  {
   "cell_type": "code",
   "execution_count": 8,
   "metadata": {},
   "outputs": [],
   "source": [
    "insulin_data_df_1['date_time_stamp']=pd.to_datetime(insulin_data_df_1['Date'] + ' ' + insulin_data_df_1['Time'])\n",
    "cgm_data_df_1['date_time_stamp']=pd.to_datetime(cgm_data_df_1['Date'] + ' ' + cgm_data_df_1['Time'])"
   ]
  },
  {
   "cell_type": "code",
   "execution_count": 9,
   "metadata": {},
   "outputs": [],
   "source": [
    "def createmealdata(insulin_data_df,cgm_data_df,dateidentifier):\n",
    "    insulin_df=insulin_data_df.copy()\n",
    "    insulin_df=insulin_df.set_index('date_time_stamp')\n",
    "    find_timestamp_with_2_5_hours_df=insulin_df.sort_values(by='date_time_stamp',ascending=True).dropna().reset_index()\n",
    "    find_timestamp_with_2_5_hours_df['BWZ Carb Input (grams)'].replace(0.0,np.nan,inplace=True)\n",
    "    find_timestamp_with_2_5_hours_df=find_timestamp_with_2_5_hours_df.dropna()\n",
    "    find_timestamp_with_2_5_hours_df=find_timestamp_with_2_5_hours_df.reset_index().drop(columns='index')\n",
    "    valid_timestamp_list=[]\n",
    "    value=0\n",
    "    for idx,i in enumerate(find_timestamp_with_2_5_hours_df['date_time_stamp']):\n",
    "        try:\n",
    "            value=(find_timestamp_with_2_5_hours_df['date_time_stamp'][idx+1]-i).seconds / 60.0\n",
    "            if value >= 120:\n",
    "                valid_timestamp_list.append(i)\n",
    "        except KeyError:\n",
    "            break\n",
    "    \n",
    "    list1=[]\n",
    "    if dateidentifier==1:\n",
    "        for idx,i in enumerate(valid_timestamp_list):\n",
    "            start=pd.to_datetime(i - timedelta(minutes=30))\n",
    "            end=pd.to_datetime(i + timedelta(minutes=120))\n",
    "            get_date=i.date().strftime('%#m/%#d/%Y')\n",
    "            list1.append(cgm_data_df.loc[cgm_data_df['Date']==get_date].set_index('date_time_stamp').between_time(start_time=start.strftime('%#H:%#M:%#S'),end_time=end.strftime('%#H:%#M:%#S'))['Sensor Glucose (mg/dL)'].values.tolist())\n",
    "        return pd.DataFrame(list1)\n",
    "    else:\n",
    "        for idx,i in enumerate(valid_timestamp_list):\n",
    "            start=pd.to_datetime(i - timedelta(minutes=30))\n",
    "            end=pd.to_datetime(i + timedelta(minutes=120))\n",
    "            get_date=i.date().strftime('%Y-%m-%d')\n",
    "            list1.append(cgm_data_df.loc[cgm_data_df['Date']==get_date].set_index('date_time_stamp').between_time(start_time=start.strftime('%H:%M:%S'),end_time=end.strftime('%H:%M:%S'))['Sensor Glucose (mg/dL)'].values.tolist())\n",
    "        return pd.DataFrame(list1)\n",
    "        "
   ]
  },
  {
   "cell_type": "code",
   "execution_count": 10,
   "metadata": {},
   "outputs": [],
   "source": [
    "meal_data=createmealdata(insulin_data_df,cgm_data_df,1)\n",
    "meal_data1=createmealdata(insulin_data_df_1,cgm_data_df_1,2)\n",
    "meal_data=meal_data.iloc[:,0:30]\n",
    "meal_data1=meal_data1.iloc[:,0:30]"
   ]
  },
  {
   "cell_type": "markdown",
   "metadata": {},
   "source": [
    "### No-Meal data extraction"
   ]
  },
  {
   "cell_type": "code",
   "execution_count": 11,
   "metadata": {},
   "outputs": [],
   "source": [
    "def createnomealdata(insulin_data_df,cgm_data_df):\n",
    "    insulin_no_meal_df=insulin_data_df.copy()\n",
    "    test1_df=insulin_no_meal_df.sort_values(by='date_time_stamp',ascending=True).replace(0.0,np.nan).dropna().copy()\n",
    "    test1_df=test1_df.reset_index().drop(columns='index')\n",
    "    valid_timestamp=[]\n",
    "    for idx,i in enumerate(test1_df['date_time_stamp']):\n",
    "        try:\n",
    "            value=(test1_df['date_time_stamp'][idx+1]-i).seconds//3600\n",
    "            if value >=4:\n",
    "                valid_timestamp.append(i)\n",
    "        except KeyError:\n",
    "            break\n",
    "    dataset=[]\n",
    "    for idx, i in enumerate(valid_timestamp):\n",
    "        iteration_dataset=1\n",
    "        try:\n",
    "            length_of_24_dataset=len(cgm_data_df.loc[(cgm_data_df['date_time_stamp']>=valid_timestamp[idx]+pd.Timedelta(hours=2))&(cgm_data_df['date_time_stamp']<valid_timestamp[idx+1])])//24\n",
    "            while (iteration_dataset<=length_of_24_dataset):\n",
    "                if iteration_dataset==1:\n",
    "                    dataset.append(cgm_data_df.loc[(cgm_data_df['date_time_stamp']>=valid_timestamp[idx]+pd.Timedelta(hours=2))&(cgm_data_df['date_time_stamp']<valid_timestamp[idx+1])]['Sensor Glucose (mg/dL)'][:iteration_dataset*24].values.tolist())\n",
    "                    iteration_dataset+=1\n",
    "                else:\n",
    "                    dataset.append(cgm_data_df.loc[(cgm_data_df['date_time_stamp']>=valid_timestamp[idx]+pd.Timedelta(hours=2))&(cgm_data_df['date_time_stamp']<valid_timestamp[idx+1])]['Sensor Glucose (mg/dL)'][(iteration_dataset-1)*24:(iteration_dataset)*24].values.tolist())\n",
    "                    iteration_dataset+=1\n",
    "        except IndexError:\n",
    "            break\n",
    "    return pd.DataFrame(dataset)"
   ]
  },
  {
   "cell_type": "code",
   "execution_count": 12,
   "metadata": {},
   "outputs": [],
   "source": [
    "no_meal_data=createnomealdata(insulin_data_df,cgm_data_df)\n",
    "no_meal_data1=createnomealdata(insulin_data_df_1,cgm_data_df_1)"
   ]
  },
  {
   "cell_type": "markdown",
   "metadata": {},
   "source": [
    "### Create Feature matrix from extracted meal data. Following are the features created,\n",
    "1. Fast Fourier Transform (FFT) of 2nd highest and 3rd highest power as well as their indexes.\n",
    "2. tau_time - time interval between max glucose level and min glucose level.\n",
    "3. 1st order differential - 1st order differential of glucose level w.r.t time\n",
    "4. 2nd order differential - 2nd order differential of glucose level w.r.t time\n",
    "5. difference in glucose normalized - change in glucose between min and max levels over min glucose level."
   ]
  },
  {
   "cell_type": "code",
   "execution_count": 13,
   "metadata": {},
   "outputs": [],
   "source": [
    "def createmealfeaturematrix(meal_data):\n",
    "    index=meal_data.isna().sum(axis=1).replace(0,np.nan).dropna().where(lambda x:x>6).dropna().index\n",
    "    meal_data_cleaned=meal_data.drop(meal_data.index[index]).reset_index().drop(columns='index')\n",
    "    meal_data_cleaned=meal_data_cleaned.interpolate(method='linear',axis=1)\n",
    "    index_to_drop_again=meal_data_cleaned.isna().sum(axis=1).replace(0,np.nan).dropna().index\n",
    "    meal_data_cleaned=meal_data_cleaned.drop(meal_data.index[index_to_drop_again]).reset_index().drop(columns='index')\n",
    "    meal_data_cleaned['tau_time']=(meal_data_cleaned.iloc[:,22:25].idxmin(axis=1)-meal_data_cleaned.iloc[:,5:19].idxmax(axis=1))*5\n",
    "    meal_data_cleaned['difference_in_glucose_normalized']=(meal_data_cleaned.iloc[:,5:19].max(axis=1)-meal_data_cleaned.iloc[:,22:25].min(axis=1))/(meal_data_cleaned.iloc[:,22:25].min(axis=1))\n",
    "    meal_data_cleaned=meal_data_cleaned.dropna().reset_index().drop(columns='index')\n",
    "    power_first_max=[]\n",
    "    index_first_max=[]\n",
    "    power_second_max=[]\n",
    "    index_second_max=[]\n",
    "    for i in range(len(meal_data_cleaned)):\n",
    "        array=abs(rfft(meal_data_cleaned.iloc[:,0:30].iloc[i].values.tolist())).tolist()\n",
    "        sorted_array=abs(rfft(meal_data_cleaned.iloc[:,0:30].iloc[i].values.tolist())).tolist()\n",
    "        sorted_array.sort()\n",
    "        power_first_max.append(sorted_array[-2])\n",
    "        power_second_max.append(sorted_array[-3])\n",
    "        index_first_max.append(array.index(sorted_array[-2]))\n",
    "        index_second_max.append(array.index(sorted_array[-3]))\n",
    "    meal_feature_matrix=pd.DataFrame()\n",
    "    meal_feature_matrix['tau_time']=meal_data_cleaned['tau_time']\n",
    "    meal_feature_matrix['difference_in_glucose_normalized']=meal_data_cleaned['difference_in_glucose_normalized']\n",
    "    meal_feature_matrix['power_first_max']=power_first_max\n",
    "    meal_feature_matrix['power_second_max']=power_second_max\n",
    "    meal_feature_matrix['index_first_max']=index_first_max\n",
    "    meal_feature_matrix['index_second_max']=index_second_max\n",
    "    tm=meal_data_cleaned.iloc[:,22:25].idxmin(axis=1)\n",
    "    maximum=meal_data_cleaned.iloc[:,5:19].idxmax(axis=1)\n",
    "    list1=[]\n",
    "    second_differential_data=[]\n",
    "    standard_deviation=[]\n",
    "    for i in range(len(meal_data_cleaned)):\n",
    "        list1.append(np.diff(meal_data_cleaned.iloc[:,maximum[i]:tm[i]].iloc[i].tolist()).max())\n",
    "        second_differential_data.append(np.diff(np.diff(meal_data_cleaned.iloc[:,maximum[i]:tm[i]].iloc[i].tolist())).max())\n",
    "        standard_deviation.append(np.std(meal_data_cleaned.iloc[i]))\n",
    "    meal_feature_matrix['1stDifferential']=list1\n",
    "    meal_feature_matrix['2ndDifferential']=second_differential_data\n",
    "    return meal_feature_matrix"
   ]
  },
  {
   "cell_type": "code",
   "execution_count": 14,
   "metadata": {},
   "outputs": [],
   "source": [
    "meal_feature_matrix=createmealfeaturematrix(meal_data)\n",
    "meal_feature_matrix1=createmealfeaturematrix(meal_data1)\n",
    "meal_feature_matrix=pd.concat([meal_feature_matrix,meal_feature_matrix1]).reset_index().drop(columns='index')"
   ]
  },
  {
   "cell_type": "markdown",
   "metadata": {},
   "source": [
    "### Just like Meal feature matrix, Create Feature matrix from extracted non meal data. (logic is same.) Following are the features created,\n",
    "1. Fast Fourier Transform (FFT) of 2nd highest and 3rd highest power as well as their indexes.\n",
    "2. tau_time - time interval between max glucose level and min glucose level.\n",
    "3. 1st order differential - 1st order differential of glucose level w.r.t time\n",
    "4. 2nd order differential - 2nd order differential of glucose level w.r.t time\n",
    "5. difference in glucose normalized - change in glucose between min and max levels over min glucose level."
   ]
  },
  {
   "cell_type": "code",
   "execution_count": 21,
   "metadata": {},
   "outputs": [],
   "source": [
    "def createnomealfeaturematrix(non_meal_data):\n",
    "    index_to_remove_non_meal=non_meal_data.isna().sum(axis=1).replace(0,np.nan).dropna().where(lambda x:x>5).dropna().index\n",
    "    non_meal_data_cleaned=non_meal_data.drop(non_meal_data.index[index_to_remove_non_meal]).reset_index().drop(columns='index')\n",
    "    non_meal_data_cleaned=non_meal_data_cleaned.interpolate(method='linear',axis=1)\n",
    "    index_to_drop_again=non_meal_data_cleaned.isna().sum(axis=1).replace(0,np.nan).dropna().index\n",
    "    non_meal_data_cleaned=non_meal_data_cleaned.drop(non_meal_data_cleaned.index[index_to_drop_again]).reset_index().drop(columns='index')\n",
    "    non_meal_feature_matrix=pd.DataFrame()\n",
    "    non_meal_data_cleaned['tau_time']=(24-non_meal_data_cleaned.iloc[:,0:19].idxmax(axis=1))*5\n",
    "    non_meal_data_cleaned['difference_in_glucose_normalized']=(non_meal_data_cleaned.iloc[:,0:19].max(axis=1)-non_meal_data_cleaned.iloc[:,24])/(non_meal_data_cleaned.iloc[:,24])\n",
    "    power_first_max,index_first_max,power_second_max,index_second_max=[],[],[],[]\n",
    "    for i in range(len(non_meal_data_cleaned)):\n",
    "        array=abs(rfft(non_meal_data_cleaned.iloc[:,0:24].iloc[i].values.tolist())).tolist()\n",
    "        sorted_array=abs(rfft(non_meal_data_cleaned.iloc[:,0:24].iloc[i].values.tolist())).tolist()\n",
    "        sorted_array.sort()\n",
    "        power_first_max.append(sorted_array[-2])\n",
    "        power_second_max.append(sorted_array[-3])\n",
    "        index_first_max.append(array.index(sorted_array[-2]))\n",
    "        index_second_max.append(array.index(sorted_array[-3]))\n",
    "    non_meal_feature_matrix['tau_time']=non_meal_data_cleaned['tau_time']\n",
    "    non_meal_feature_matrix['difference_in_glucose_normalized']=non_meal_data_cleaned['difference_in_glucose_normalized']\n",
    "    non_meal_feature_matrix['power_first_max']=power_first_max\n",
    "    non_meal_feature_matrix['power_second_max']=power_second_max\n",
    "    non_meal_feature_matrix['index_first_max']=index_first_max\n",
    "    non_meal_feature_matrix['index_second_max']=index_second_max\n",
    "    first_differential_data=[]\n",
    "    second_differential_data=[]\n",
    "    for i in range(len(non_meal_data_cleaned)):\n",
    "        first_differential_data.append(np.diff(non_meal_data_cleaned.iloc[:,0:24].iloc[i].tolist()).max())\n",
    "        second_differential_data.append(np.diff(np.diff(non_meal_data_cleaned.iloc[:,0:24].iloc[i].tolist())).max())\n",
    "    non_meal_feature_matrix['1stDifferential']=first_differential_data\n",
    "    non_meal_feature_matrix['2ndDifferential']=second_differential_data\n",
    "    return non_meal_feature_matrix"
   ]
  },
  {
   "cell_type": "code",
   "execution_count": 22,
   "metadata": {},
   "outputs": [],
   "source": [
    "non_meal_feature_matrix=createnomealfeaturematrix(no_meal_data)\n",
    "non_meal_feature_matrix1=createnomealfeaturematrix(no_meal_data1)\n",
    "non_meal_feature_matrix=pd.concat([non_meal_feature_matrix,non_meal_feature_matrix1]).reset_index().drop(columns='index')"
   ]
  },
  {
   "cell_type": "markdown",
   "metadata": {},
   "source": [
    "### Subject the data onto Decision Tree Classifier to predict 0 / 1 label using KFold Cross Validation."
   ]
  },
  {
   "cell_type": "code",
   "execution_count": 17,
   "metadata": {},
   "outputs": [],
   "source": [
    "meal_feature_matrix['label']=1\n",
    "non_meal_feature_matrix['label']=0\n",
    "total_data=pd.concat([meal_feature_matrix,non_meal_feature_matrix]).reset_index().drop(columns='index')\n",
    "dataset=shuffle(total_data,random_state=1).reset_index().drop(columns='index')\n",
    "kfold = KFold(n_splits=10,shuffle=True,random_state=1)\n",
    "principaldata=dataset.drop(columns='label')\n",
    "scores_rf = []\n",
    "model=DecisionTreeClassifier(criterion=\"entropy\")\n",
    "for train_index, test_index in kfold.split(principaldata):\n",
    "    X_train,X_test,y_train,y_test = principaldata.loc[train_index],principaldata.loc[test_index],\\\n",
    "    dataset.label.loc[train_index],dataset.label.loc[test_index]\n",
    "    model.fit(X_train,y_train)\n",
    "    scores_rf.append(model.score(X_test,y_test))"
   ]
  },
  {
   "cell_type": "code",
   "execution_count": 19,
   "metadata": {},
   "outputs": [
    {
     "name": "stdout",
     "output_type": "stream",
     "text": [
      "Prediction score is 97.64466394590012\n"
     ]
    }
   ],
   "source": [
    "print('Prediction score is',np.mean(scores_rf)*100)"
   ]
  },
  {
   "cell_type": "code",
   "execution_count": 20,
   "metadata": {},
   "outputs": [
    {
     "data": {
      "text/plain": [
       "['DecisionTreeClassifier.pickle']"
      ]
     },
     "execution_count": 20,
     "metadata": {},
     "output_type": "execute_result"
    }
   ],
   "source": [
    "classifier=DecisionTreeClassifier(criterion='entropy')\n",
    "X, y= principaldata, dataset['label']\n",
    "classifier.fit(X,y)\n",
    "dump(classifier, 'DecisionTreeClassifier.pickle')"
   ]
  },
  {
   "cell_type": "code",
   "execution_count": null,
   "metadata": {},
   "outputs": [],
   "source": []
  }
 ],
 "metadata": {
  "kernelspec": {
   "display_name": "Python 3",
   "language": "python",
   "name": "python3"
  },
  "language_info": {
   "codemirror_mode": {
    "name": "ipython",
    "version": 3
   },
   "file_extension": ".py",
   "mimetype": "text/x-python",
   "name": "python",
   "nbconvert_exporter": "python",
   "pygments_lexer": "ipython3",
   "version": "3.8.5"
  }
 },
 "nbformat": 4,
 "nbformat_minor": 4
}
